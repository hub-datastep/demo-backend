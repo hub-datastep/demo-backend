{
 "cells": [
  {
   "cell_type": "code",
   "execution_count": 17,
   "metadata": {},
   "outputs": [],
   "source": [
    "import pandas as pd\n",
    "\n",
    "# Указываем путь к файлу Excel\n",
    "file_path = r'e:\\demo-ml\\datasets\\(ACTUAL) Combined Categories and Materials aka NSI_готовый к обучению.xlsx'\n",
    "\n",
    "# Загружаем файл и читаем лист 'NSI'\n",
    "df = pd.read_excel(file_path, sheet_name='NSI')"
   ]
  },
  {
   "cell_type": "code",
   "execution_count": 18,
   "metadata": {},
   "outputs": [
    {
     "name": "stdout",
     "output_type": "stream",
     "text": [
      "['Арматура стальная' 'Балки железобетонные' 'Бетон' 'Блок ветиляционный'\n",
      " 'Блоки и другие стеновые материалы' 'Блоки ФБС'\n",
      " 'Гидроизоляционные материалы'\n",
      " 'Двери металлические квартирные и технические'\n",
      " 'Звукоизоляционные материалы' 'Кабель силовой' 'Каркас'\n",
      " 'Кирпич керамический' 'Кирпич силикатный'\n",
      " 'Лестничные марши и площадки железобетонные' 'Лифтовое оборудование'\n",
      " 'Металлоконструкции' 'Наружные сети (Водоснабжение и Канализация)'\n",
      " 'Наружные сети (Освещение)' 'Наружные сети (Теплоснабжение)'\n",
      " 'Наружные сети (Электрика)' 'Насосные станции' 'Осветительные приборы'\n",
      " 'Пазогребневые плиты гипсовые' 'Пенополистирол (ППС)'\n",
      " 'Перемычки железобетонные' 'Плиты перекрытия железобетонные пустотные'\n",
      " 'Радиаторы и конвекторы'\n",
      " 'Светопрозрачные конструкции из алюминиевого профиля'\n",
      " 'Светопрозрачные конструкции из ПВХ профиля' 'Сетка кладочная'\n",
      " 'Счётчики учёта энергоресурсов' 'Тепловые пункты'\n",
      " 'Термобалансировочное оборудование' 'Трубы из сшитого полиэтилена'\n",
      " 'Утеплитель минераловатный' 'Фасадная облицовка' 'Фасадная подсистема'\n",
      " 'Щитовое оборудование' 'Экструдированный пенополистирол (ЭППС)']\n"
     ]
    }
   ],
   "source": [
    "# Получаем уникальные значения из колонки 'group'\n",
    "unique_groups = df['group'].unique()[1:]\n",
    "\n",
    "# Напечатаем уникальные значения\n",
    "print(unique_groups)\n"
   ]
  },
  {
   "cell_type": "code",
   "execution_count": 19,
   "metadata": {},
   "outputs": [
    {
     "name": "stdout",
     "output_type": "stream",
     "text": [
      "1301    Каркас КРП-2\n",
      "1302    Каркас КРП-3\n",
      "1303    Каркас КРП-4\n",
      "1304    Каркас КРП-5\n",
      "1305       Каркас С1\n",
      "1306       Каркас С2\n",
      "Name: name, dtype: object\n"
     ]
    }
   ],
   "source": [
    "# Фильтруем строки, где в колонке 'group' встречается 'Каркас'\n",
    "filtered_df = df[df['group'].str.contains('Каркас', na=False)]\n",
    "\n",
    "# Получаем все значения из колонки 'name' для отфильтрованных строк\n",
    "names_with_karcass = filtered_df['name']\n",
    "\n",
    "# Напечатаем результат\n",
    "print(names_with_karcass)"
   ]
  },
  {
   "cell_type": "code",
   "execution_count": 21,
   "metadata": {},
   "outputs": [],
   "source": [
    "def get_data_for_gpt(noms: list[str]) -> set:\n",
    "    s = set()\n",
    "    for nom in noms:\n",
    "        tokens = nom.split()\n",
    "        for token in tokens:\n",
    "            s.add(token)\n",
    "    return s\n",
    "\n"
   ]
  },
  {
   "cell_type": "code",
   "execution_count": null,
   "metadata": {},
   "outputs": [],
   "source": [
    "for ug in unique_groups:\n",
    "    noms = df[df['group'] == ug]['name']\n",
    "    data = get_data_for_gpt(noms)\n",
    "    print(sorted(data))\n",
    "    \n"
   ]
  },
  {
   "cell_type": "code",
   "execution_count": null,
   "metadata": {},
   "outputs": [],
   "source": []
  }
 ],
 "metadata": {
  "kernelspec": {
   "display_name": "Python 3",
   "language": "python",
   "name": "python3"
  },
  "language_info": {
   "codemirror_mode": {
    "name": "ipython",
    "version": 3
   },
   "file_extension": ".py",
   "mimetype": "text/x-python",
   "name": "python",
   "nbconvert_exporter": "python",
   "pygments_lexer": "ipython3",
   "version": "3.11.9"
  }
 },
 "nbformat": 4,
 "nbformat_minor": 2
}
